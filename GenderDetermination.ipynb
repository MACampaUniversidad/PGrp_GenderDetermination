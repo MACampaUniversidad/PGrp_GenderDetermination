{
 "cells": [
  {
   "cell_type": "code",
   "execution_count": null,
   "metadata": {
    "tags": [
     "outputPrepend",
     "outputPrepend",
     "outputPrepend",
     "outputPrepend",
     "outputPrepend",
     "outputPrepend"
    ]
   },
   "outputs": [],
   "source": [
    "#imports y globals.\n",
    "import shared.constants  as  const\n",
    "import shared.supportedFiles as sf\n",
    "TestFile= const.CSV_FILES[const.TEST_KEY]\n",
    "TrainFile= const.CSV_FILES[const.TRAIN_KEY]\n"
   ]
  },
  {
   "cell_type": "code",
   "execution_count": null,
   "metadata": {},
   "outputs": [],
   "source": [
    "#comparar los ficheros train y test csv y garantizar que son iguales\n",
    "\n",
    "TestFile.findDifferences(TrainFile)"
   ]
  },
  {
   "cell_type": "code",
   "execution_count": null,
   "metadata": {},
   "outputs": [],
   "source": [
    "#verificar que disponemos del significado de todas las columnas del fichero csv de entrenamiento\n",
    "#para ello comparamos los ficheros con el diccionario proporcionado\n",
    "#si no existen, se elimina directamente la columna ya que no podemos interpretarla.\n",
    "print(\"\\n\".join(TrainFile.setColumDescriptionsFile(fileFormat =sf.SupportedFiles.EXCEL, filepath=\"data_sources/WiDS data dictionary v2.xlsx\")))\n"
   ]
  },
  {
   "cell_type": "code",
   "execution_count": null,
   "metadata": {},
   "outputs": [],
   "source": [
    "#localizar los campos vacios en las variables restantes \n",
    "TrainFile.nullCounts()"
   ]
  },
  {
   "cell_type": "code",
   "execution_count": null,
   "metadata": {},
   "outputs": [],
   "source": []
  }
 ],
 "metadata": {
  "language_info": {
   "codemirror_mode": {
    "name": "ipython",
    "version": 3
   },
   "file_extension": ".py",
   "mimetype": "text/x-python",
   "name": "python",
   "nbconvert_exporter": "python",
   "pygments_lexer": "ipython3",
   "version": "3.8.2-final"
  },
  "orig_nbformat": 2,
  "kernelspec": {
   "name": "python38264bitdevelopmentvenvab56529086f0490b924bc259634cc7dd",
   "display_name": "Python 3.8.2 64-bit ('.development': venv)"
  }
 },
 "nbformat": 4,
 "nbformat_minor": 2
}