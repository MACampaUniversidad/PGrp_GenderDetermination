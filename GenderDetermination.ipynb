{
 "cells": [
  {
   "cell_type": "code",
   "execution_count": null,
   "metadata": {
    "tags": [
     "outputPrepend",
     "outputPrepend",
     "outputPrepend",
     "outputPrepend",
     "outputPrepend",
     "outputPrepend"
    ]
   },
   "outputs": [],
   "source": [
    "#imports y globals.\n",
    "import shared.constants  as  const\n",
    "import shared.supportedFiles as sf\n",
    "TestFile= const.CSV_FILES[const.TEST_KEY]\n",
    "TrainFile= const.CSV_FILES[const.TRAIN_KEY]\n",
    "TrainFile.getModelTypeDetail(fileName= \"TRAIN_volcado de todas las variables.txt\") "
   ]
  },
  {
   "cell_type": "code",
   "execution_count": null,
   "metadata": {},
   "outputs": [],
   "source": [
    "#comparar los ficheros train y test csv y garantizar que son iguales\n",
    "\n",
    "TestFile.findDifferences(TrainFile)"
   ]
  },
  {
   "cell_type": "code",
   "execution_count": null,
   "metadata": {},
   "outputs": [],
   "source": [
    "#verificar que disponemos del significado de todas las columnas del fichero csv de entrenamiento\n",
    "#para ello comparamos los ficheros con el diccionario proporcionado\n",
    "print(\"\\n\".join(TrainFile.setColumDescriptionsFile(fileFormat =sf.SupportedFiles.EXCEL, filepath=\"data_sources/WiDS data dictionary v2.xlsx\",removeNotFoundColumns=False )))"
   ]
  },
  {
   "cell_type": "code",
   "execution_count": null,
   "metadata": {},
   "outputs": [],
   "source": [
    "#localizar los campos vacios en las variables\n",
    "#y eliminar las que tengan mas del 90% de valores nulos.\n",
    "print (\"Columnas Iniciales: \" + str(len(TrainFile.csvFile.columns)))\n",
    "TrainFile.removeColumnsHavingNulls(90, Silent=True)\n",
    "print (\"Columnas restantes: \" + str(len(TrainFile.csvFile.columns)))"
   ]
  },
  {
   "cell_type": "code",
   "execution_count": null,
   "metadata": {},
   "outputs": [],
   "source": [
    "#Normalizar el modelo de datos:\n",
    "#Remplazar los valores de LN2_RIndLngBEOth\tLN2_WIndLngBEOth por valores numericos \n",
    "print (\"Columnas Iniciales: \" + str(len(TrainFile.csvFile.columns)))\n",
    "TrainFile.replaceColumnTextByDictionaryValues(const.LANGUAGES, 'LN2_RIndLngBEOth',naValue='0')\n",
    "TrainFile.replaceColumnTextByDictionaryValues(const.LANGUAGES, 'LN2_WIndLngBEOth',naValue='0')\n",
    "TrainFile.setColumnsType( {'LN2_RIndLngBEOth':int,'LN2_WIndLngBEOth':int})\n",
    "#eliminar columnas con constantes y valores de texto (cualitativas). Se consideran constantes aquellas que tengan una desviacion típica por debajo de 0.1\n",
    "TrainFile.removeUselessColumns ( dropConstants=True, dropQualifiyingColums=True, stdThreshold=0.1, Silent=False)\n",
    "#mostrar el estado actual del modelo de datos antes de cubrir gaps (nulos) utilizando una regresion multivariable \n",
    "TrainFile.fillGapsUsingMultivariable()\n",
    "print (\"Columnas restantes: \" + str(len(TrainFile.csvFile.columns)))"
   ]
  },
  {
   "cell_type": "code",
   "execution_count": null,
   "metadata": {},
   "outputs": [],
   "source": [
    "#Eliminar columnas con un coef. de pearson menor de 0.09 siendo 1 el maximo y 0 no relación \n",
    "#para eliminar aquellas que no tengan una gran capacidad explicativa. El calculo considera\n",
    "#valores absolutos para tener en consideración correlaciones inversas. (-)\n",
    "#considerando valores absolutos\n",
    "#imports y globals.\n",
    "TrainFile.removeColPearsonCriteria(0.09,'is_female')\n",
    "print (\"Columnas restantes: \" + str(len(TrainFile.csvFile.columns)))\n",
    "#mostrar grafica de \"calor\" con las correlaciones en el fichero train.\n",
    "TrainFile.getHeatMap(\"pearson\", 3,3)\n"
   ]
  },
  {
   "cell_type": "code",
   "execution_count": null,
   "metadata": {},
   "outputs": [],
   "source": [
    "#Eliminar columnas train_id y is_female del fichero train (train_id se ha ido ya por la falta de correlacion)\n",
    "TrainFile.dropColumn('is_female')\n",
    "print (\"Columnas restantes: \" + str(len(TrainFile.csvFile.columns)))"
   ]
  },
  {
   "cell_type": "code",
   "execution_count": null,
   "metadata": {},
   "outputs": [],
   "source": [
    "#PREPARACION MODELO DE TEST\n",
    "#localizar los campos vacios en las variables\n",
    "#y eliminar las que tengan mas del 90% de valores nulos.\n",
    "\n",
    "print (\"Columnas Iniciales: \" + str(len(TrainFile.csvFile.columns)))\n",
    "TestFile.removeColumnsHavingNulls(90, Silent=True)\n",
    "print (\"Columnas restantes: \" + str(len(TrainFile.csvFile.columns)))"
   ]
  },
  {
   "cell_type": "code",
   "execution_count": null,
   "metadata": {},
   "outputs": [],
   "source": [
    "#Normalizar el modelo de datos:\n",
    "#Remplazar los valores de LN2_RIndLngBEOth\tLN2_WIndLngBEOth por valores numericos \n",
    "print (\"Columnas Iniciales: \" + str(len(TestFile.csvFile.columns)))\n",
    "TestFile.replaceColumnTextByDictionaryValues(const.LANGUAGES, 'LN2_RIndLngBEOth',naValue='0')\n",
    "TestFile.replaceColumnTextByDictionaryValues(const.LANGUAGES, 'LN2_WIndLngBEOth',naValue='0')\n",
    "TestFile.setColumnsType( {'LN2_RIndLngBEOth':int,'LN2_WIndLngBEOth':int})\n",
    "#eliminar columnas con constantes y valores de texto (cualitativas). Se consideran constantes aquellas que tengan una desviacion típica por debajo de 0.1\n",
    "TestFile.removeUselessColumns ( dropConstants=True, dropQualifiyingColums=True, stdThreshold=0.1, Silent=False)\n",
    "#mostrar el estado actual del modelo de datos antes de cubrir gaps (nulos) utilizando una regresion multivariable \n",
    "TestFile.fillGapsUsingMultivariable()\n",
    "print (\"Columnas restantes: \" + str(len(TestFile.csvFile.columns)))\n"
   ]
  },
  {
   "cell_type": "code",
   "execution_count": null,
   "metadata": {},
   "outputs": [],
   "source": [
    "#Eliminar columnas con un coef. de pearson menor de 0.09 siendo 1 el maximo y 0 no relación \n",
    "#para eliminar aquellas que no tengan una gran capacidad explicativa. El calculo considera\n",
    "#valores absolutos para tener en consideración correlaciones inversas. (-)\n",
    "#considerando valores absolutos\n",
    "#imports y globals.\n",
    "TestFile.removeColPearsonCriteria(0.09,'is_female')\n",
    "print (\"Columnas restantes: \" + str(len(TestFile.csvFile.columns)))\n",
    "#mostrar grafica de \"calor\" con las correlaciones en el fichero train.\n",
    "TestFile.getHeatMap(\"pearson\", 3,3)"
   ]
  }
 ],
 "metadata": {
  "language_info": {
   "codemirror_mode": {
    "name": "ipython",
    "version": 3
   },
   "file_extension": ".py",
   "mimetype": "text/x-python",
   "name": "python",
   "nbconvert_exporter": "python",
   "pygments_lexer": "ipython3",
   "version": "3.8.2-final"
  },
  "orig_nbformat": 2,
  "kernelspec": {
   "name": "python38264bitdevelopmentvenvab56529086f0490b924bc259634cc7dd",
   "display_name": "Python 3.8.2 64-bit ('.development': venv)"
  }
 },
 "nbformat": 4,
 "nbformat_minor": 2
}