{
 "cells": [
  {
   "cell_type": "code",
   "execution_count": null,
   "metadata": {
    "tags": [
     "outputPrepend",
     "outputPrepend",
     "outputPrepend",
     "outputPrepend",
     "outputPrepend",
     "outputPrepend"
    ]
   },
   "outputs": [],
   "source": [
    "#imports y globals.\n",
    "import shared.constants  as  const\n",
    "import shared.supportedFiles as sf\n",
    "TestFile= const.CSV_FILES[const.TEST_KEY]\n",
    "TrainFile= const.CSV_FILES[const.TRAIN_KEY]\n",
    "TrainFile.getModelTypeDetail(fileName= \"TRAIN_volcado de todas las variables.txt\") "
   ]
  },
  {
   "cell_type": "code",
   "execution_count": null,
   "metadata": {},
   "outputs": [],
   "source": [
    "#comparar los ficheros train y test csv y garantizar que son iguales\n",
    "\n",
    "TestFile.findDifferences(TrainFile)"
   ]
  },
  {
   "cell_type": "code",
   "execution_count": null,
   "metadata": {},
   "outputs": [],
   "source": [
    "#verificar que disponemos del significado de todas las columnas del fichero csv de entrenamiento\n",
    "#para ello comparamos los ficheros con el diccionario proporcionado\n",
    "print(\"\\n\".join(TrainFile.setColumDescriptionsFile(fileFormat =sf.SupportedFiles.EXCEL, filepath=\"data_sources/WiDS data dictionary v2.xlsx\",removeNotFoundColumns=False )))\n"
   ]
  },
  {
   "cell_type": "code",
   "execution_count": null,
   "metadata": {},
   "outputs": [],
   "source": [
    "#localizar los campos vacios en las variables\n",
    "#y eliminar las que tengan mas del 90% de valores nulos.\n",
    "TrainFile.getNullPercents()\n",
    "TrainFile.removeColumnsHavingNulls(90, Silent=True)"
   ]
  },
  {
   "cell_type": "code",
   "execution_count": null,
   "metadata": {},
   "outputs": [],
   "source": [
    "#Normalizar el modelo de datos:\n",
    "#Remplazar los valores de LN2_RIndLngBEOth\tLN2_WIndLngBEOth por valores numericos \n",
    "TrainFile.replaceColumnTextByDictionaryValues(const.LANGUAGES, 'LN2_RIndLngBEOth',naValue='0')\n",
    "TrainFile.replaceColumnTextByDictionaryValues(const.LANGUAGES, 'LN2_WIndLngBEOth',naValue='0')\n",
    "\n",
    "TrainFile.setColumnsType( {'LN2_RIndLngBEOth':int,'LN2_WIndLngBEOth':int})\n",
    "#eliminar columnas con constantes y valores de texto (cualitativas)\n",
    "TrainFile.removeUselessColumns()\n",
    "#mostrar el estado actual del modelo de datos antes de cubrir gaps (nulos) utilizando una regresion multivariable \n",
    "TrainFile.fillGapsUsingMultivariable()\n",
    "TrainFile.csvFile"
   ]
  },
  {
   "cell_type": "code",
   "execution_count": null,
   "metadata": {},
   "outputs": [],
   "source": [
    "#Eliminar columnas con un coef. de pearson menor de 0.3 siendo 1 el maximo y 0 no relación \n",
    "#considerando valores absolutos\n",
    "#imports y globals.\n",
    "\n",
    "#completar valores faltantes:\n",
    "\n",
    "#TrainFile.removeColPearsonCriteria(0.5,'is_female')\n",
    "TrainFile.csvFile.head\n",
    "\n"
   ]
  },
  {
   "cell_type": "code",
   "execution_count": null,
   "metadata": {},
   "outputs": [],
   "source": []
  }
 ],
 "metadata": {
  "language_info": {
   "codemirror_mode": {
    "name": "ipython",
    "version": 3
   },
   "file_extension": ".py",
   "mimetype": "text/x-python",
   "name": "python",
   "nbconvert_exporter": "python",
   "pygments_lexer": "ipython3",
   "version": "3.8.2-final"
  },
  "orig_nbformat": 2,
  "kernelspec": {
   "name": "python38264bitdevelopmentvenvab56529086f0490b924bc259634cc7dd",
   "display_name": "Python 3.8.2 64-bit ('.development': venv)"
  }
 },
 "nbformat": 4,
 "nbformat_minor": 2
}