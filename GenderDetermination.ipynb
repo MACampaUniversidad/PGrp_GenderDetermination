{
 "cells": [
  {
   "cell_type": "code",
   "execution_count": 1,
   "metadata": {
    "tags": [
     "outputPrepend",
     "outputPrepend",
     "outputPrepend",
     "outputPrepend",
     "outputPrepend",
     "outputPrepend"
    ]
   },
   "outputs": [],
   "source": [
    "#imports y globals.\n",
    "import shared.constants  as  const\n",
    "import shared.supportedFiles as sf\n",
    "TestFile= const.CSV_FILES[const.TEST_KEY]\n",
    "TrainFile= const.CSV_FILES[const.TRAIN_KEY]\n"
   ]
  },
  {
   "cell_type": "code",
   "execution_count": null,
   "metadata": {},
   "outputs": [],
   "source": [
    "#comparar los ficheros train y test csv y garantizar que son iguales\n",
    "TestFile.getModelTypeDetail()\n",
    "TestFile.findDifferences(TrainFile)"
   ]
  },
  {
   "cell_type": "code",
   "execution_count": 2,
   "metadata": {},
   "outputs": [
    {
     "output_type": "stream",
     "name": "stdout",
     "text": "train_id No encontrada en CSV de datos Accion: Eliminada\nAA4 No encontrada en CSV de datos Accion: Eliminada\nAA7 No encontrada en CSV de datos Accion: Eliminada\nAA14 No encontrada en CSV de datos Accion: Eliminada\nAA15 No encontrada en CSV de datos Accion: Eliminada\nDG3A_OTHERS No encontrada en CSV de datos Accion: Eliminada\nDG4_OTHERS No encontrada en CSV de datos Accion: Eliminada\nDG10b No encontrada en CSV de datos Accion: Eliminada\nDG10c No encontrada en CSV de datos Accion: Eliminada\nDG11b No encontrada en CSV de datos Accion: Eliminada\nDG11c No encontrada en CSV de datos Accion: Eliminada\nDG13_OTHERS No encontrada en CSV de datos Accion: Eliminada\nDG14_OTHERS No encontrada en CSV de datos Accion: Eliminada\nDL1_OTHERS No encontrada en CSV de datos Accion: Eliminada\nDL2_23_OTHERS No encontrada en CSV de datos Accion: Eliminada\nDL2_96_OTHERS No encontrada en CSV de datos Accion: Eliminada\nDL4_96 No encontrada en CSV de datos Accion: Eliminada\nDL4_99 No encontrada en CSV de datos Accion: Eliminada\nDL4_OTHERS No encontrada en CSV de datos Accion: Eliminada\nDL12_OTHERS No encontrada en CSV de datos Accion: Eliminada\nDL14 No encontrada en CSV de datos Accion: Eliminada\nDL28_OTHERS No encontrada en CSV de datos Accion: Eliminada\nG2P1_OTHERS No encontrada en CSV de datos Accion: Eliminada\nG2P2_96 No encontrada en CSV de datos Accion: Eliminada\nG2P2_1_OTHERS No encontrada en CSV de datos Accion: Eliminada\nG2P2_2_OTHERS No encontrada en CSV de datos Accion: Eliminada\nG2P2_4_OTHERS No encontrada en CSV de datos Accion: Eliminada\nG2P2_6_OTHERS No encontrada en CSV de datos Accion: Eliminada\nG2P2_7_OTHERS No encontrada en CSV de datos Accion: Eliminada\nG2P2_8_OTHERS No encontrada en CSV de datos Accion: Eliminada\nG2P2_9_OTHERS No encontrada en CSV de datos Accion: Eliminada\nG2P2_10_OTHERS No encontrada en CSV de datos Accion: Eliminada\nG2P2_11_OTHERS No encontrada en CSV de datos Accion: Eliminada\nG2P2_12_OTHERS No encontrada en CSV de datos Accion: Eliminada\nG2P2_13_OTHERS No encontrada en CSV de datos Accion: Eliminada\nG2P2_14_OTHERS No encontrada en CSV de datos Accion: Eliminada\nG2P2_15_OTHERS No encontrada en CSV de datos Accion: Eliminada\nG2P2_16_OTHERS No encontrada en CSV de datos Accion: Eliminada\nG2P2_96_OTHERS No encontrada en CSV de datos Accion: Eliminada\nG2P3_1 No encontrada en CSV de datos Accion: Eliminada\nG2P3_2 No encontrada en CSV de datos Accion: Eliminada\nG2P3_3 No encontrada en CSV de datos Accion: Eliminada\nG2P3_4 No encontrada en CSV de datos Accion: Eliminada\nG2P3_5 No encontrada en CSV de datos Accion: Eliminada\nG2P3_6 No encontrada en CSV de datos Accion: Eliminada\nG2P3_7 No encontrada en CSV de datos Accion: Eliminada\nG2P3_8 No encontrada en CSV de datos Accion: Eliminada\nG2P3_9 No encontrada en CSV de datos Accion: Eliminada\nG2P3_10 No encontrada en CSV de datos Accion: Eliminada\nG2P3_11 No encontrada en CSV de datos Accion: Eliminada\nG2P3_12 No encontrada en CSV de datos Accion: Eliminada\nG2P3_13 No encontrada en CSV de datos Accion: Eliminada\nG2P3_14 No encontrada en CSV de datos Accion: Eliminada\nG2P3_15 No encontrada en CSV de datos Accion: Eliminada\nG2P3_16 No encontrada en CSV de datos Accion: Eliminada\nG2P3_96 No encontrada en CSV de datos Accion: Eliminada\nMT3_1 No encontrada en CSV de datos Accion: Eliminada\nMT3_2 No encontrada en CSV de datos Accion: Eliminada\nMT3_3 No encontrada en CSV de datos Accion: Eliminada\nMT5_OTHERS No encontrada en CSV de datos Accion: Eliminada\nMT6_OTHERS No encontrada en CSV de datos Accion: Eliminada\nMT6A_OTHERS No encontrada en CSV de datos Accion: Eliminada\nMT6B_OTHERS No encontrada en CSV de datos Accion: Eliminada\nMT7A_OTHERS No encontrada en CSV de datos Accion: Eliminada\nMT9_OTHERS No encontrada en CSV de datos Accion: Eliminada\nMT12_1 No encontrada en CSV de datos Accion: Eliminada\nMT12_2 No encontrada en CSV de datos Accion: Eliminada\nMT12_3 No encontrada en CSV de datos Accion: Eliminada\nMT12_4 No encontrada en CSV de datos Accion: Eliminada\nMT12_5 No encontrada en CSV de datos Accion: Eliminada\nMT12_6 No encontrada en CSV de datos Accion: Eliminada\nMT12_7 No encontrada en CSV de datos Accion: Eliminada\nMT12_8 No encontrada en CSV de datos Accion: Eliminada\nMT12_9 No encontrada en CSV de datos Accion: Eliminada\nMT12_10 No encontrada en CSV de datos Accion: Eliminada\nMT12_11 No encontrada en CSV de datos Accion: Eliminada\nMT12_12 No encontrada en CSV de datos Accion: Eliminada\nMT12_13 No encontrada en CSV de datos Accion: Eliminada\nMT12_14 No encontrada en CSV de datos Accion: Eliminada\nMT12_96 No encontrada en CSV de datos Accion: Eliminada\nMT12_99 No encontrada en CSV de datos Accion: Eliminada\nMT12_OTHERS No encontrada en CSV de datos Accion: Eliminada\nMT13_1_OTHERS No encontrada en CSV de datos Accion: Eliminada\nMT13_2_OTHERS No encontrada en CSV de datos Accion: Eliminada\nMT13_3_OTHERS No encontrada en CSV de datos Accion: Eliminada\nMT13_4_OTHERS No encontrada en CSV de datos Accion: Eliminada\nMT13_7_OTHERS No encontrada en CSV de datos Accion: Eliminada\nMT13_9_OTHERS No encontrada en CSV de datos Accion: Eliminada\nMT13_11_OTHERS No encontrada en CSV de datos Accion: Eliminada\nMT13_96_OTHERS No encontrada en CSV de datos Accion: Eliminada\nMT14_3_OTHERS No encontrada en CSV de datos Accion: Eliminada\nMT14_5_OTHERS No encontrada en CSV de datos Accion: Eliminada\nMT14_7_OTHERS No encontrada en CSV de datos Accion: Eliminada\nMT14B_OTHERS No encontrada en CSV de datos Accion: Eliminada\nMT16_OTHERS No encontrada en CSV de datos Accion: Eliminada\nMT18_OTHERS No encontrada en CSV de datos Accion: Eliminada\nFF2A_OTHERS No encontrada en CSV de datos Accion: Eliminada\nFF3_OTHERS No encontrada en CSV de datos Accion: Eliminada\nFF7_OTHERS No encontrada en CSV de datos Accion: Eliminada\nFF10_OTHERS No encontrada en CSV de datos Accion: Eliminada\nFF14_OTHERS No encontrada en CSV de datos Accion: Eliminada\nMM2_OTHERS No encontrada en CSV de datos Accion: Eliminada\nMM11_2_OTHERS No encontrada en CSV de datos Accion: Eliminada\nMM11_5_OTHERS No encontrada en CSV de datos Accion: Eliminada\nMM11_11_OTHERS No encontrada en CSV de datos Accion: Eliminada\nMM11_13_OTHERS No encontrada en CSV de datos Accion: Eliminada\nMM12_OTHERS No encontrada en CSV de datos Accion: Eliminada\nMM12_REC No encontrada en CSV de datos Accion: Eliminada\nMM13_OTHERS No encontrada en CSV de datos Accion: Eliminada\nMM13_REC No encontrada en CSV de datos Accion: Eliminada\nMM14_OTHERS No encontrada en CSV de datos Accion: Eliminada\nMM15_OTHERS No encontrada en CSV de datos Accion: Eliminada\nMM24_OTHERS No encontrada en CSV de datos Accion: Eliminada\nMM28_OTHERS No encontrada en CSV de datos Accion: Eliminada\nMM36_OTHERS No encontrada en CSV de datos Accion: Eliminada\nMM37_OTHERS No encontrada en CSV de datos Accion: Eliminada\nMM38_OTHERS No encontrada en CSV de datos Accion: Eliminada\nMM41_OTHERS No encontrada en CSV de datos Accion: Eliminada\nMMP1_OTHERS No encontrada en CSV de datos Accion: Eliminada\nIFI10_OTHERS No encontrada en CSV de datos Accion: Eliminada\nIFI11_OTHERS No encontrada en CSV de datos Accion: Eliminada\nIFI12_OTHERS No encontrada en CSV de datos Accion: Eliminada\nIFI16_1_OTHERS No encontrada en CSV de datos Accion: Eliminada\nIFI16_2_OTHERS No encontrada en CSV de datos Accion: Eliminada\nIFI16_3_OTHERS No encontrada en CSV de datos Accion: Eliminada\nIFI16_6_OTHERS No encontrada en CSV de datos Accion: Eliminada\nIFI16_7_OTHERS No encontrada en CSV de datos Accion: Eliminada\nIFI21_OTHERS No encontrada en CSV de datos Accion: Eliminada\nIFI24_OTHERS No encontrada en CSV de datos Accion: Eliminada\nFL3_OTHERS No encontrada en CSV de datos Accion: Eliminada\nFL4_OTHERS No encontrada en CSV de datos Accion: Eliminada\nFL9A_OTHERS No encontrada en CSV de datos Accion: Eliminada\nFL9B_OTHERS No encontrada en CSV de datos Accion: Eliminada\nFL10_OTHERS No encontrada en CSV de datos Accion: Eliminada\nFB4_OTHERS No encontrada en CSV de datos Accion: Eliminada\nFB16_5_OTHERS No encontrada en CSV de datos Accion: Eliminada\nFB16_96_OTHERS No encontrada en CSV de datos Accion: Eliminada\nFB19_96_OTHERS No encontrada en CSV de datos Accion: Eliminada\nFB19_6_OTHERS No encontrada en CSV de datos Accion: Eliminada\nFB19A_OTHERS No encontrada en CSV de datos Accion: Eliminada\nFB19B_OTHERS No encontrada en CSV de datos Accion: Eliminada\nFB22_7_OTHERS No encontrada en CSV de datos Accion: Eliminada\nFB22_96_OTHERS No encontrada en CSV de datos Accion: Eliminada\nFB24_OTHERS No encontrada en CSV de datos Accion: Eliminada\nFB25_OTHERS No encontrada en CSV de datos Accion: Eliminada\nFB26_OTHERS No encontrada en CSV de datos Accion: Eliminada\nFB27_OTHERS No encontrada en CSV de datos Accion: Eliminada\nFB28_1_OTHERS No encontrada en CSV de datos Accion: Eliminada\nFB28_2_OTHERS No encontrada en CSV de datos Accion: Eliminada\nFB28_3_OTHERS No encontrada en CSV de datos Accion: Eliminada\nFB28_4_OTHERS No encontrada en CSV de datos Accion: Eliminada\nFB28_96_OTHERS No encontrada en CSV de datos Accion: Eliminada\nFB29_OTHERS No encontrada en CSV de datos Accion: Eliminada\nLN2_RIndLngBEOth No encontrada en CSV de datos Accion: Eliminada\nLN2_WIndLngBEOth No encontrada en CSV de datos Accion: Eliminada\nGN1_OTHERS No encontrada en CSV de datos Accion: Eliminada\nGN2_OTHERS No encontrada en CSV de datos Accion: Eliminada\nGN3_OTHERS No encontrada en CSV de datos Accion: Eliminada\nGN4_OTHERS No encontrada en CSV de datos Accion: Eliminada\nGN5_OTHERS No encontrada en CSV de datos Accion: Eliminada\n"
    }
   ],
   "source": [
    "#verificar que disponemos del significado de todas las columnas del fichero csv de entrenamiento\n",
    "#para ello comparamos los ficheros con el diccionario proporcionado\n",
    "#si no existen, se elimina directamente la columna ya que no podemos interpretarla.\n",
    "print(\"\\n\".join(TrainFile.setColumDescriptionsFile(fileFormat =sf.SupportedFiles.EXCEL, filepath=\"data_sources/WiDS data dictionary v2.xlsx\")))\n"
   ]
  },
  {
   "cell_type": "code",
   "execution_count": null,
   "metadata": {},
   "outputs": [],
   "source": []
  }
 ],
 "metadata": {
  "language_info": {
   "codemirror_mode": {
    "name": "ipython",
    "version": 3
   },
   "file_extension": ".py",
   "mimetype": "text/x-python",
   "name": "python",
   "nbconvert_exporter": "python",
   "pygments_lexer": "ipython3",
   "version": "3.8.2-final"
  },
  "orig_nbformat": 2,
  "kernelspec": {
   "name": "python38264bitdevelopmentvenvab56529086f0490b924bc259634cc7dd",
   "display_name": "Python 3.8.2 64-bit ('.development': venv)"
  }
 },
 "nbformat": 4,
 "nbformat_minor": 2
}