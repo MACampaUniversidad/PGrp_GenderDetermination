{
 "cells": [
  {
   "cell_type": "code",
   "execution_count": null,
   "metadata": {
    "tags": [
     "outputPrepend",
     "outputPrepend",
     "outputPrepend",
     "outputPrepend",
     "outputPrepend",
     "outputPrepend"
    ]
   },
   "outputs": [],
   "source": [
    "#imports y globals.\n",
    "import shared.constants  as  const\n",
    "import shared.supportedFiles as sf\n",
    "#Recuperar los ficheros con los modelos modificados de la parte 1 para evitar volver a realizar todo el proceso cada vez.\n",
    "#y el original de entrenamiento\n",
    "TestFile= const.CSV_FILES[const.TEST_KEY_PART_2]\n",
    "TrainFile= const.CSV_FILES[const.TRAIN_KEY_PART_2]\n"
   ]
  },
  {
   "cell_type": "code",
   "execution_count": null,
   "metadata": {},
   "outputs": [],
   "source": [
    "#añadir la columna is_female del train original al subconjunto generado en el apartado 1 y el test_id que lo usaremos en la prediccion\n",
    "TrainFileInicial = const.CSV_FILES[const.TRAIN_KEY]\n",
    "\n",
    "colum_is_female= TrainFileInicial.csvFile['is_female']\n",
    "colum_train_id= TrainFileInicial.csvFile['train_id']\n",
    "\n",
    "TrainFile.csvFile['is_female']= colum_is_female\n",
    "TrainFile.csvFile['train_id']= colum_train_id\n",
    "#renombrar columna test_id a train_id para homoheneizar con el del modelo de train.\n",
    "TrainFile.csvFile.rename(columns= {\"train_id\" : \"test_id\"}, inplace=True)\n",
    "TrainFile.csvFile.head()"
   ]
  },
  {
   "cell_type": "code",
   "execution_count": null,
   "metadata": {},
   "outputs": [],
   "source": [
    "#Modelos predictivos y calidad de los mismos con curva ROC\n",
    "#      Se usan varios algoritmos de prediccion para determinar cuál es el mejor:\n",
    "#        predictColumn es la columna a ser predecida. El modelo entrenado se asume que es el contenido en la instancia del helper. Self.\n",
    "#        identifierColumn: normalmente es una columna que hace las veces de indexador identificando de forma unica un registro.\n",
    "#        testModel: El modelo de test contra el que se realiza la predicción. (Pandas Dataframe)\n",
    "#        \n",
    "#        Antes de realizar la predicción el algoritmo limpia el conjunto de datos de test de aquellas columnas que no existan en el modelo entrenado.\n",
    "#\n",
    "#        El modo Silent activa la salida de texto informativo\n",
    "#        El modo ROC_Curve genera la curva ROC para cada algoritmo ayudando de forma visual a la determinación del mejor.\n",
    "#        Retorna el mejor algoritmo en base a la mejor precisión para cada uno de los algorimos empleados en la estimación que son los siguientes:\n",
    "#          - Regresión logística\n",
    "#          - Random Forest\n",
    "#          - Árboles de decisión\n",
    "#          - Bayesiano (Naybe)\n",
    "#         - K-NeigthBors (Vecindad de 5)\n",
    "# -----------------------------------------------------------------------------------------------------------------------------------------------\n",
    " \n",
    "TrainFile.getBestPredictionAlgorithm('is_female', 'test_id', TestFile.csvFile, Silent=False, ROC_Curve=True)"
   ]
  },
  {
   "cell_type": "code",
   "execution_count": null,
   "metadata": {},
   "outputs": [],
   "source": []
  }
 ],
 "metadata": {
  "language_info": {
   "codemirror_mode": {
    "name": "ipython",
    "version": 3
   },
   "file_extension": ".py",
   "mimetype": "text/x-python",
   "name": "python",
   "nbconvert_exporter": "python",
   "pygments_lexer": "ipython3",
   "version": "3.8.2-final"
  },
  "orig_nbformat": 2,
  "kernelspec": {
   "name": "python38264bitdevelopmentvenvab56529086f0490b924bc259634cc7dd",
   "display_name": "Python 3.8.2 64-bit ('.development': venv)"
  }
 },
 "nbformat": 4,
 "nbformat_minor": 2
}